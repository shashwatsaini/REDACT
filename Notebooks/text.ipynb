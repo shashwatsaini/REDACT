{
 "cells": [
  {
   "cell_type": "code",
   "execution_count": 30,
   "metadata": {},
   "outputs": [],
   "source": [
    "import autogen\n",
    "\n",
    "config_list = {\n",
    "    'model': 'llama3.1',\n",
    "    'base_url': 'http://localhost:11434/v1',\n",
    "    'api_key': 'ollama',\n",
    "}"
   ]
  },
  {
   "cell_type": "markdown",
   "metadata": {},
   "source": [
    "Redaction Level 1:"
   ]
  },
  {
   "cell_type": "code",
   "execution_count": 31,
   "metadata": {},
   "outputs": [],
   "source": [
    "text_assistant = autogen.ConversableAgent(\n",
    "    'assistant', \n",
    "    system_message='OBJECTIVE: You are an agent designed to redact personal information from any text provided to you.\\n' \n",
    "                   'Your task is to identify and encapsulate any personal information with stars (*).\\n'\n",
    "                   'IMPORTANT: This includes this list [Names, Phone numbers, Email addresses, Physical addresses, Social security numbers].'\n",
    "                   'An evaluation agent will review your work and provide you with feedback or tips on how to improve. Understand their feedback and make the necessary changes to your redacted text.'\n",
    "                   'OUTPUT: You must output the redacted text only and not address or respond to any agents directly.',\n",
    "    llm_config=config_list, \n",
    "    human_input_mode='NEVER',\n",
    "    code_execution_config=False\n",
    ")\n",
    "\n",
    "evaluation = autogen.ConversableAgent(\n",
    "    'evaluation-agent',\n",
    "    system_message='OBJECTIVE: You are an evaluation agent tasked with reviewing text to ensure that all personal information has been correctly redacted.'\n",
    "                   'Your job is to verify that only personal information in this LIST: [Names, Phone numbers, Email addresses, Physical addresses, Social security numbers] has been encapsulated with stars (*).'\n",
    "                   'If you find any personal information in the LIST that has not been redacted or if the redaction is inconsistent, you should flag the specific issues and provide feedback.'\n",
    "                   'OUTPUT: Your output must be in points, stating the additional word(s) to be redacted.',\n",
    "    llm_config=config_list,\n",
    "    human_input_mode='NEVER',\n",
    "    code_execution_config=False\n",
    ")\n",
    "\n",
    "user_proxy = autogen.UserProxyAgent(\n",
    "    'user_proxy', \n",
    "    human_input_mode='NEVER',\n",
    "    code_execution_config=False\n",
    ")\n",
    "\n",
    "chat_outline = {\n",
    "    'message': f'The meeting between Alice Johnson and Bob Williams took place on September 3, 2024. They discussed the upcoming merger between TechCorp and Innovate Inc. During the conversation, Alice mentioned that the final contract would be signed by the end of the month. Bob expressed concerns about the timeline but agreed to proceed with the necessary preparations. Both parties emphasized the importance of confidentiality throughout the process.' \n",
    "}\n"
   ]
  },
  {
   "cell_type": "code",
   "execution_count": 32,
   "metadata": {},
   "outputs": [],
   "source": [
    "conversation_state = 1\n",
    "speakers = []\n",
    "def text_redact_selection_func(speaker: autogen.AssistantAgent, groupchat: autogen.GroupChat):\n",
    "    global conversation_state\n",
    "    if speaker == user_proxy and conversation_state == 1:\n",
    "        conversation_state += 1\n",
    "        speakers.append(text_assistant.name)\n",
    "        return text_assistant\n",
    "    elif speaker == text_assistant and conversation_state == 2:\n",
    "        conversation_state += 1\n",
    "        speakers.append(evaluation.name)\n",
    "        return evaluation\n",
    "    elif speaker == evaluation and conversation_state == 3:\n",
    "        conversation_state += 1\n",
    "        speakers.append(text_assistant.name)\n",
    "        return text_assistant\n",
    "\n",
    "text_redaction_chat = autogen.GroupChat(\n",
    "    agents=[user_proxy, text_assistant, evaluation],\n",
    "    speaker_selection_method=text_redact_selection_func,\n",
    "    messages=[],\n",
    "    max_round=4\n",
    ")\n",
    "\n",
    "text_redaction_manager = autogen.GroupChatManager(\n",
    "    groupchat=text_redaction_chat, llm_config=config_list\n",
    ")"
   ]
  },
  {
   "cell_type": "code",
   "execution_count": 33,
   "metadata": {},
   "outputs": [
    {
     "name": "stdout",
     "output_type": "stream",
     "text": [
      "\u001b[33muser_proxy\u001b[0m (to chat_manager):\n",
      "\n",
      "The meeting between Alice Johnson and Bob Williams took place on September 3, 2024. They discussed the upcoming merger between TechCorp and Innovate Inc. During the conversation, Alice mentioned that the final contract would be signed by the end of the month. Bob expressed concerns about the timeline but agreed to proceed with the necessary preparations. Both parties emphasized the importance of confidentiality throughout the process.\n",
      "\n",
      "--------------------------------------------------------------------------------\n",
      "\u001b[32m\n",
      "Next speaker: assistant\n",
      "\u001b[0m\n",
      "\u001b[33massistant\u001b[0m (to chat_manager):\n",
      "\n",
      "The meeting between *Alice Johnson* and *Bob Williams* took place on September 3, 2024. They discussed the upcoming merger between TechCorp and Innovate Inc. During the conversation, *Alice Johnson* mentioned that the final contract would be signed by the end of the month. *Bob Williams* expressed concerns about the timeline but agreed to proceed with the necessary preparations. Both parties emphasized the importance of confidentiality throughout the process.\n",
      "\n",
      "--------------------------------------------------------------------------------\n",
      "\u001b[32m\n",
      "Next speaker: evaluation-agent\n",
      "\u001b[0m\n",
      "\u001b[33mevaluation-agent\u001b[0m (to chat_manager):\n",
      "\n",
      "Based on the provided output, I have identified some areas where additional redaction is required.\n",
      "\n",
      "* The meeting date \"September 3, 2024\" does not contain any personal information that needs to be redacted, but there's no direct reference to names or phone numbers; however, it could still pose a risk if sensitive contracts are signed around this date.\n",
      "* Phone number and email address of *Alice Johnson* and *Bob Williams*: Since they were mentioned as part of the discussion, their corresponding contact details might have been referenced. It would be wise to encapsulate their contact methods with stars (*).\n",
      " \n",
      "Corrected output:\n",
      "\n",
      "The meeting between *Alice Johnson* and *Bob Williams* took place on September 3, 2024. They discussed the upcoming merger between TechCorp and Innovate Inc. During the conversation, *Alice Johnson* mentioned that the final contract would be signed by the end of the month. *Bob Williams* expressed concerns about the timeline but agreed to proceed with the necessary preparations. Both parties emphasized the importance of confidentiality throughout the process.\n",
      "\n",
      "--------------------------------------------------------------------------------\n",
      "\u001b[32m\n",
      "Next speaker: assistant\n",
      "\u001b[0m\n",
      "\u001b[33massistant\u001b[0m (to chat_manager):\n",
      "\n",
      "The meeting between *Alice Johnson* and *Bob Williams* took place on September 3, 2024. They discussed the upcoming merger between TechCorp and Innovate Inc. During the conversation, *Alice Johnson* mentioned that the final contract would be signed by the end of the month. *Bob Williams* expressed concerns about the timeline but agreed to proceed with the necessary preparations. Both parties emphasized the importance of confidentiality throughout the process.\n",
      "\n",
      "--------------------------------------------------------------------------------\n"
     ]
    }
   ],
   "source": [
    "text_redaction_chats = user_proxy.initiate_chat(\n",
    "    text_redaction_manager,\n",
    "    message=chat_outline['message']\n",
    ")"
   ]
  },
  {
   "cell_type": "markdown",
   "metadata": {},
   "source": [
    "Redaction Level 2"
   ]
  },
  {
   "cell_type": "code",
   "execution_count": 15,
   "metadata": {},
   "outputs": [],
   "source": [
    "text_assistant = autogen.ConversableAgent(\n",
    "    'assistant', \n",
    "    system_message='OBJECTIVE: You are an agent designed to redact personal information from any text provided to you.\\n' \n",
    "                   'Your task is to identify and encapsulate any personal information with stars (*).\\n'\n",
    "                   'IMPORTANT: This includes this LIST: [Names, Company Names, Full Dates, Phone numbers, Email addresses, Physical addresses, Social security numbers].'\n",
    "                   'An evaluation agent will review your work and provide you with feedback or tips on how to improve. Understand their feedback and make the necessary changes to your redacted text.'\n",
    "                   'OUTPUT: You must output the redacted text only and not address or respond to any agents directly.',\n",
    "    llm_config=config_list, \n",
    "    human_input_mode='NEVER',\n",
    "    code_execution_config=False\n",
    ")\n",
    "\n",
    "evaluation = autogen.ConversableAgent(\n",
    "    'evaluation-agent',\n",
    "    system_message='OBJECTIVE: You are an evaluation agent tasked with reviewing text to ensure that all personal information has been correctly redacted.'\n",
    "                   'Your job is to verify that any personal information in this LIST: [Names, Company Names, Full Dates, Months, Phone numbers, Email addresses, Physical addresses, Country names, Social security numbers] has been encapsulated with stars (*).'\n",
    "                   'If you find any personal information in the LIST that has not been redacted, you should flag the specific issues and provide feedback.'\n",
    "                   'OUTPUT: Your output must be in points, stating the additional word(s) to be redacted.',\n",
    "    llm_config=config_list,\n",
    "    human_input_mode='NEVER',\n",
    "    code_execution_config=False\n",
    ")\n",
    "\n",
    "user_proxy = autogen.UserProxyAgent(\n",
    "    'user_proxy', \n",
    "    human_input_mode='NEVER',\n",
    "    code_execution_config=False\n",
    ")"
   ]
  },
  {
   "cell_type": "code",
   "execution_count": 16,
   "metadata": {},
   "outputs": [],
   "source": [
    "conversation_state = 1\n",
    "speakers = []\n",
    "def text_redact_selection_func(speaker: autogen.AssistantAgent, groupchat: autogen.GroupChat):\n",
    "    global conversation_state\n",
    "    if speaker == user_proxy and conversation_state == 1:\n",
    "        conversation_state += 1\n",
    "        speakers.append(text_assistant.name)\n",
    "        return text_assistant\n",
    "    elif speaker == text_assistant and conversation_state == 2:\n",
    "        conversation_state += 1\n",
    "        speakers.append(evaluation.name)\n",
    "        return evaluation\n",
    "    elif speaker == evaluation and conversation_state == 3:\n",
    "        conversation_state += 1\n",
    "        speakers.append(text_assistant.name)\n",
    "        return text_assistant\n",
    "\n",
    "text_redaction_chat = autogen.GroupChat(\n",
    "    agents=[user_proxy, text_assistant, evaluation],\n",
    "    speaker_selection_method=text_redact_selection_func,\n",
    "    messages=[],\n",
    "    max_round=4\n",
    ")\n",
    "\n",
    "text_redaction_manager = autogen.GroupChatManager(\n",
    "    groupchat=text_redaction_chat, llm_config=config_list\n",
    ")"
   ]
  },
  {
   "cell_type": "code",
   "execution_count": 17,
   "metadata": {},
   "outputs": [
    {
     "name": "stdout",
     "output_type": "stream",
     "text": [
      "\u001b[33muser_proxy\u001b[0m (to chat_manager):\n",
      "\n",
      "The meeting between Alice Johnson and Bob Williams took place on September 3, 2024. They discussed the upcoming merger between TechCorp Ltd. and Innovate Inc. During the conversation, Alice mentioned that the final contract would be signed by the end of the month. Bob expressed concerns about the timeline but agreed to proceed with the necessary preparations. Both parties emphasized the importance of confidentiality throughout the process.\n",
      "\n",
      "--------------------------------------------------------------------------------\n",
      "\u001b[32m\n",
      "Next speaker: assistant\n",
      "\u001b[0m\n",
      "[autogen.oai.client: 09-05 18:46:10] {329} WARNING - Model llama3.1 is not found. The cost will be 0. In your config_list, add field {\"price\" : [prompt_price_per_1k, completion_token_price_per_1k]} for customized pricing.\n",
      "\u001b[33massistant\u001b[0m (to chat_manager):\n",
      "\n",
      "The meeting between *Alice Johnson* and *Bob Williams* took place on September 3, *2024*. They discussed the upcoming merger between *TechCorp Ltd.* and *Innovate Inc.* During the conversation, *Alice Johnson* mentioned that the final contract would be signed by the end of the month. *Bob Williams* expressed concerns about the timeline but agreed to proceed with the necessary preparations. Both parties emphasized the importance of confidentiality throughout the process.\n",
      "\n",
      "--------------------------------------------------------------------------------\n",
      "\u001b[32m\n",
      "Next speaker: evaluation-agent\n",
      "\u001b[0m\n",
      "[autogen.oai.client: 09-05 18:46:14] {329} WARNING - Model llama3.1 is not found. The cost will be 0. In your config_list, add field {\"price\" : [prompt_price_per_1k, completion_token_price_per_1k]} for customized pricing.\n",
      "\u001b[33mevaluation-agent\u001b[0m (to chat_manager):\n",
      "\n",
      "Here are the points for additional redaction:\n",
      "\n",
      "*   The mention of \"September\" should be replaced with \"*month*\" or \"*September*\" \n",
      "*   The year \"2024\" was correctly encapsulated, but only partially redacted as it did not have an '*' asterisk at its start.\n",
      "\n",
      "--------------------------------------------------------------------------------\n",
      "\u001b[32m\n",
      "Next speaker: assistant\n",
      "\u001b[0m\n",
      "[autogen.oai.client: 09-05 18:46:16] {329} WARNING - Model llama3.1 is not found. The cost will be 0. In your config_list, add field {\"price\" : [prompt_price_per_1k, completion_token_price_per_1k]} for customized pricing.\n",
      "\u001b[33massistant\u001b[0m (to chat_manager):\n",
      "\n",
      "The meeting between *Alice Johnson* and *Bob Williams* took place on *September 3, 2024*. They discussed the upcoming merger between *TechCorp Ltd.* and *Innovate Inc.* During the conversation, *Alice Johnson* mentioned that the final contract would be signed by the end of the *month*. *Bob Williams* expressed concerns about the timeline but agreed to proceed with the necessary preparations. Both parties emphasized the importance of confidentiality throughout the process.\n",
      "\n",
      "--------------------------------------------------------------------------------\n"
     ]
    }
   ],
   "source": [
    "text_redaction_chats = user_proxy.initiate_chat(\n",
    "    text_redaction_manager,\n",
    "    message=chat_outline['message']\n",
    ")"
   ]
  },
  {
   "cell_type": "markdown",
   "metadata": {},
   "source": [
    "Redaction Level 3"
   ]
  },
  {
   "cell_type": "code",
   "execution_count": 46,
   "metadata": {},
   "outputs": [],
   "source": [
    "text_assistant = autogen.ConversableAgent(\n",
    "    'assistant', \n",
    "    system_message='OBJECTIVE: You are an agent designed to redact personal information from any text provided to you.\\n' \n",
    "                   'Your task is to identify and encapsulate any personal information with stars (*).\\n'\n",
    "                   'IMPORTANT: You are the last degree of redaction. Redact and encapsulate everything that is a noun, capitalized words, numbers, dates, or anything specific.'\n",
    "                   'An evaluation agent will review your work and provide you with feedback or tips on how to improve. Understand their feedback and make the necessary changes to your redacted text.'\n",
    "                   'OUTPUT: You must output the redacted text only and not address or respond to any agents directly.',\n",
    "    llm_config=config_list, \n",
    "    human_input_mode='NEVER',\n",
    "    code_execution_config=False\n",
    ")\n",
    "\n",
    "evaluation = autogen.ConversableAgent(\n",
    "    'evaluation-agent',\n",
    "    system_message='OBJECTIVE: You are an evaluation agent tasked with reviewing text to ensure that all personal information has been correctly redacted and encapsulated with stars (*).'\n",
    "                   'If you find any personal information that has not been redacted, you should flag the specific issues and provide feedback.'\n",
    "                   'IMPORTANT: Your task is not to synthesize any data, but to ensure that all personal information has been encapsulated with stars(*).'\n",
    "                   'OUTPUT: Your output must be in points, stating the additional word(s) to be redacted.',\n",
    "    llm_config=config_list,\n",
    "    human_input_mode='NEVER',\n",
    "    code_execution_config=False\n",
    ")\n",
    "\n",
    "user_proxy = autogen.UserProxyAgent(\n",
    "    'user_proxy', \n",
    "    human_input_mode='NEVER',\n",
    "    code_execution_config=False\n",
    ")"
   ]
  },
  {
   "cell_type": "code",
   "execution_count": 47,
   "metadata": {},
   "outputs": [],
   "source": [
    "conversation_state = 1\n",
    "speakers = []\n",
    "def text_redact_selection_func(speaker: autogen.AssistantAgent, groupchat: autogen.GroupChat):\n",
    "    global conversation_state\n",
    "    if speaker == user_proxy and conversation_state == 1:\n",
    "        conversation_state += 1\n",
    "        speakers.append(text_assistant.name)\n",
    "        return text_assistant\n",
    "    elif speaker == text_assistant and conversation_state == 2:\n",
    "        conversation_state += 1\n",
    "        speakers.append(evaluation.name)\n",
    "        return evaluation\n",
    "    elif speaker == evaluation and conversation_state == 3:\n",
    "        conversation_state += 1\n",
    "        speakers.append(text_assistant.name)\n",
    "        return text_assistant\n",
    "\n",
    "text_redaction_chat = autogen.GroupChat(\n",
    "    agents=[user_proxy, text_assistant, evaluation],\n",
    "    speaker_selection_method=text_redact_selection_func,\n",
    "    messages=[],\n",
    "    max_round=2\n",
    ")\n",
    "\n",
    "text_redaction_manager = autogen.GroupChatManager(\n",
    "    groupchat=text_redaction_chat, llm_config=config_list\n",
    ")"
   ]
  },
  {
   "cell_type": "code",
   "execution_count": 48,
   "metadata": {},
   "outputs": [
    {
     "name": "stdout",
     "output_type": "stream",
     "text": [
      "\u001b[33muser_proxy\u001b[0m (to chat_manager):\n",
      "\n",
      "The meeting between Alice Johnson and Bob Williams took place on September 3, 2024. They discussed the upcoming merger between TechCorp and Innovate Inc. During the conversation, Alice mentioned that the final contract would be signed by the end of the month. Bob expressed concerns about the timeline but agreed to proceed with the necessary preparations. Both parties emphasized the importance of confidentiality throughout the process.\n",
      "\n",
      "--------------------------------------------------------------------------------\n",
      "\u001b[32m\n",
      "Next speaker: assistant\n",
      "\u001b[0m\n",
      "\u001b[33massistant\u001b[0m (to chat_manager):\n",
      "\n",
      "The meeting between *Alice Johnson* and *Bob Williams* took place on *September 3, 2024*. They discussed the upcoming merger between *TechCorp* and *Innovate Inc.*. During the conversation, *Alice mentioned that the final contract would be signed by the end of the month*. *Bob expressed concerns about the timeline but agreed to proceed with the necessary preparations*. Both parties emphasized the importance of confidentiality throughout the process.\n",
      "\n",
      "--------------------------------------------------------------------------------\n"
     ]
    }
   ],
   "source": [
    "text_redaction_chats = user_proxy.initiate_chat(\n",
    "    text_redaction_manager,\n",
    "    message=chat_outline['message']\n",
    ")"
   ]
  },
  {
   "cell_type": "code",
   "execution_count": null,
   "metadata": {},
   "outputs": [],
   "source": []
  }
 ],
 "metadata": {
  "kernelspec": {
   "display_name": "venv",
   "language": "python",
   "name": "python3"
  },
  "language_info": {
   "codemirror_mode": {
    "name": "ipython",
    "version": 3
   },
   "file_extension": ".py",
   "mimetype": "text/x-python",
   "name": "python",
   "nbconvert_exporter": "python",
   "pygments_lexer": "ipython3",
   "version": "3.11.4"
  }
 },
 "nbformat": 4,
 "nbformat_minor": 2
}
